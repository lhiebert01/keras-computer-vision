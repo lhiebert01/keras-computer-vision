{
  "nbformat": 4,
  "nbformat_minor": 0,
  "metadata": {
    "colab": {
      "name": "LinearRegression3.ipynb",
      "version": "0.3.2",
      "provenance": [],
      "include_colab_link": true
    },
    "kernelspec": {
      "name": "python3",
      "display_name": "Python 3"
    }
  },
  "cells": [
    {
      "cell_type": "markdown",
      "metadata": {
        "id": "view-in-github",
        "colab_type": "text"
      },
      "source": [
        "<a href=\"https://colab.research.google.com/github/lhiebert01/keras-computer-vision/blob/master/LinearRegression3.ipynb\" target=\"_parent\"><img src=\"https://colab.research.google.com/assets/colab-badge.svg\" alt=\"Open In Colab\"/></a>"
      ]
    },
    {
      "metadata": {
        "id": "JMOZlbl9rBu_",
        "colab_type": "code",
        "colab": {
          "base_uri": "https://localhost:8080/",
          "height": 34
        },
        "outputId": "65e30fce-df4a-4797-a86c-caa3ef8d059e"
      },
      "cell_type": "code",
      "source": [
        "!pip3 install torch"
      ],
      "execution_count": 2,
      "outputs": [
        {
          "output_type": "stream",
          "text": [
            "Requirement already satisfied: torch in /usr/local/lib/python3.6/dist-packages (1.0.1.post2)\n"
          ],
          "name": "stdout"
        }
      ]
    },
    {
      "metadata": {
        "id": "zZUu_skLrbdU",
        "colab_type": "code",
        "colab": {}
      },
      "cell_type": "code",
      "source": [
        "#Importing relevant libraries\n",
        "\n",
        "import torch\n",
        "import torch.nn as nn\n",
        "import matplotlib.pyplot as plt\n",
        "import numpy as np\n",
        "\n",
        "\n"
      ],
      "execution_count": 0,
      "outputs": []
    },
    {
      "metadata": {
        "id": "ZWdW62XLq8qM",
        "colab_type": "code",
        "colab": {
          "base_uri": "https://localhost:8080/",
          "height": 413
        },
        "outputId": "ae3f92d3-af2b-450e-89a2-9f92db4e0042"
      },
      "cell_type": "code",
      "source": [
        "\n",
        "\n",
        "\n",
        "#Initializing Dataset\n",
        "\n",
        "X = torch.randn(100, 1)*10\n",
        "y = X + 3*torch.randn(100, 1)\n",
        "plt.plot(X.numpy(), y.numpy(), 'o')\n",
        "plt.ylabel('y')\n",
        "plt.xlabel('x')\n",
        "\n",
        "\n",
        "\n",
        "#Model Class Constructor\n",
        "\n",
        "class LR(nn.Module):\n",
        "  def __init__(self, input_size, output_size):\n",
        "    super().__init__()\n",
        "    self.linear = nn.Linear(input_size, output_size)\n",
        "  def forward(self, x):\n",
        "    pred = self.linear(x)\n",
        "    return pred\n",
        "#Model Instantiation\n",
        "\n",
        "torch.manual_seed(1)\n",
        "model = LR(1, 1)\n",
        "print(model)\n",
        "#Output: LR(   (linear): Linear(in_features=1, out_features=1, bias=True) )\n",
        "\n",
        "\n",
        "\n",
        "#Extracting Model Parameters:\n",
        "\n",
        "[w, b] = model.parameters()\n",
        "def get_params():\n",
        "  return (w[0][0].item(), b[0].item())\n",
        "\n",
        "#Defining plot_fit function\n",
        "\n",
        "def plot_fit(title):\n",
        "  plt.title = title\n",
        "  w1, b1 = get_params()\n",
        "  x1 = np.array([-30, 30])\n",
        "  y1 = w1*x1 + b1\n",
        "  plt.plot(x1, y1, 'r')\n",
        "  plt.scatter(X, y)\n",
        "  plt.show()\n",
        "#Plotting Initial Model\n",
        "\n",
        "plot_fit('Initial Model')\n"
      ],
      "execution_count": 8,
      "outputs": [
        {
          "output_type": "stream",
          "text": [
            "LR(\n",
            "  (linear): Linear(in_features=1, out_features=1, bias=True)\n",
            ")\n"
          ],
          "name": "stdout"
        },
        {
          "output_type": "display_data",
          "data": {
            "image/png": "[encoded data removed]",
            "text/plain": [
              "<Figure size 576x396 with 1 Axes>"
            ]
          },
          "metadata": {
            "tags": []
          }
        }
      ]
    },
    {
      "metadata": {
        "id": "a26hS4QjsWuX",
        "colab_type": "code",
        "colab": {
          "base_uri": "https://localhost:8080/",
          "height": 1750
        },
        "outputId": "435f3c66-6b1a-4764-bc7d-74a211d2f11d"
      },
      "cell_type": "code",
      "source": [
        "criterion = nn.MSELoss()\n",
        "optimizer = torch.optim.SGD(model.parameters(), lr = 0.01)\n",
        "\n",
        "\n",
        "#Training Model\n",
        "\n",
        "epochs = 100\n",
        "losses = []\n",
        "for i in range(epochs):\n",
        "  y_pred = model.forward(X)\n",
        "  loss = criterion(y_pred, y)\n",
        "  print(\"epoch:\", i, \"loss:\", loss.item())\n",
        "  \n",
        "  losses.append(loss)\n",
        "  optimizer.zero_grad()\n",
        "  loss.backward()\n",
        "  optimizer.step()"
      ],
      "execution_count": 9,
      "outputs": [
        {
          "output_type": "stream",
          "text": [
            "epoch: 0 loss: 34.483341217041016\n",
            "epoch: 1 loss: 30.490934371948242\n",
            "epoch: 2 loss: 27.102344512939453\n",
            "epoch: 3 loss: 24.225969314575195\n",
            "epoch: 4 loss: 21.78409194946289\n",
            "epoch: 5 loss: 19.710840225219727\n",
            "epoch: 6 loss: 17.95029640197754\n",
            "epoch: 7 loss: 16.455066680908203\n",
            "epoch: 8 loss: 15.184940338134766\n",
            "epoch: 9 loss: 14.105801582336426\n",
            "epoch: 10 loss: 13.188713073730469\n",
            "epoch: 11 loss: 12.40912914276123\n",
            "epoch: 12 loss: 11.746249198913574\n",
            "epoch: 13 loss: 11.182398796081543\n",
            "epoch: 14 loss: 10.70261287689209\n",
            "epoch: 15 loss: 10.294185638427734\n",
            "epoch: 16 loss: 9.946331024169922\n",
            "epoch: 17 loss: 9.649908065795898\n",
            "epoch: 18 loss: 9.3971586227417\n",
            "epoch: 19 loss: 9.181504249572754\n",
            "epoch: 20 loss: 8.997359275817871\n",
            "epoch: 21 loss: 8.839986801147461\n",
            "epoch: 22 loss: 8.705368041992188\n",
            "epoch: 23 loss: 8.590088844299316\n",
            "epoch: 24 loss: 8.49125862121582\n",
            "epoch: 25 loss: 8.406415939331055\n",
            "epoch: 26 loss: 8.333477973937988\n",
            "epoch: 27 loss: 8.270675659179688\n",
            "epoch: 28 loss: 8.21650218963623\n",
            "epoch: 29 loss: 8.169686317443848\n",
            "epoch: 30 loss: 8.129140853881836\n",
            "epoch: 31 loss: 8.093948364257812\n",
            "epoch: 32 loss: 8.063325881958008\n",
            "epoch: 33 loss: 8.036609649658203\n",
            "epoch: 34 loss: 8.01323413848877\n",
            "epoch: 35 loss: 7.992721080780029\n",
            "epoch: 36 loss: 7.974661350250244\n",
            "epoch: 37 loss: 7.958707332611084\n",
            "epoch: 38 loss: 7.9445648193359375\n",
            "epoch: 39 loss: 7.931981563568115\n",
            "epoch: 40 loss: 7.920744895935059\n",
            "epoch: 41 loss: 7.910670280456543\n",
            "epoch: 42 loss: 7.901602268218994\n",
            "epoch: 43 loss: 7.8934102058410645\n",
            "epoch: 44 loss: 7.8859782218933105\n",
            "epoch: 45 loss: 7.87921142578125\n",
            "epoch: 46 loss: 7.873024940490723\n",
            "epoch: 47 loss: 7.867348670959473\n",
            "epoch: 48 loss: 7.86212158203125\n",
            "epoch: 49 loss: 7.8572916984558105\n",
            "epoch: 50 loss: 7.852813243865967\n",
            "epoch: 51 loss: 7.8486480712890625\n",
            "epoch: 52 loss: 7.844762802124023\n",
            "epoch: 53 loss: 7.841129302978516\n",
            "epoch: 54 loss: 7.837721347808838\n",
            "epoch: 55 loss: 7.834517002105713\n",
            "epoch: 56 loss: 7.831498146057129\n",
            "epoch: 57 loss: 7.828648090362549\n",
            "epoch: 58 loss: 7.825952053070068\n",
            "epoch: 59 loss: 7.823397636413574\n",
            "epoch: 60 loss: 7.820973873138428\n",
            "epoch: 61 loss: 7.818671226501465\n",
            "epoch: 62 loss: 7.816479206085205\n",
            "epoch: 63 loss: 7.814391613006592\n",
            "epoch: 64 loss: 7.81240177154541\n",
            "epoch: 65 loss: 7.810502052307129\n",
            "epoch: 66 loss: 7.808687686920166\n",
            "epoch: 67 loss: 7.806952953338623\n",
            "epoch: 68 loss: 7.805294513702393\n",
            "epoch: 69 loss: 7.803706645965576\n",
            "epoch: 70 loss: 7.802186489105225\n",
            "epoch: 71 loss: 7.800728797912598\n",
            "epoch: 72 loss: 7.7993340492248535\n",
            "epoch: 73 loss: 7.7979960441589355\n",
            "epoch: 74 loss: 7.796712398529053\n",
            "epoch: 75 loss: 7.795480251312256\n",
            "epoch: 76 loss: 7.794299125671387\n",
            "epoch: 77 loss: 7.7931647300720215\n",
            "epoch: 78 loss: 7.792076110839844\n",
            "epoch: 79 loss: 7.791032314300537\n",
            "epoch: 80 loss: 7.790027618408203\n",
            "epoch: 81 loss: 7.789063930511475\n",
            "epoch: 82 loss: 7.788137912750244\n",
            "epoch: 83 loss: 7.7872490882873535\n",
            "epoch: 84 loss: 7.7863945960998535\n",
            "epoch: 85 loss: 7.7855730056762695\n",
            "epoch: 86 loss: 7.784784317016602\n",
            "epoch: 87 loss: 7.7840256690979\n",
            "epoch: 88 loss: 7.783297061920166\n",
            "epoch: 89 loss: 7.782597541809082\n",
            "epoch: 90 loss: 7.781924247741699\n",
            "epoch: 91 loss: 7.781277179718018\n",
            "epoch: 92 loss: 7.780655860900879\n",
            "epoch: 93 loss: 7.78005838394165\n",
            "epoch: 94 loss: 7.779483795166016\n",
            "epoch: 95 loss: 7.778931617736816\n",
            "epoch: 96 loss: 7.778400897979736\n",
            "epoch: 97 loss: 7.777890682220459\n",
            "epoch: 98 loss: 7.777400493621826\n",
            "epoch: 99 loss: 7.776927947998047\n"
          ],
          "name": "stdout"
        }
      ]
    },
    {
      "metadata": {
        "id": "hlNvoxv4ssLg",
        "colab_type": "code",
        "colab": {
          "base_uri": "https://localhost:8080/",
          "height": 1750
        },
        "outputId": "cf6021c3-7786-4c54-bd02-83f908b4fcae"
      },
      "cell_type": "code",
      "source": [
        "#Specifying Loss and Optimizer\n",
        "\n",
        "\n",
        "\n",
        "criterion = nn.MSELoss()\n",
        "optimizer = torch.optim.SGD(model.parameters(), lr = 0.01)\n",
        "\n",
        "\n",
        "#Training Model\n",
        "\n",
        "epochs = 100\n",
        "losses = []\n",
        "for i in range(epochs):\n",
        "  y_pred = model.forward(X)\n",
        "  loss = criterion(y_pred, y)\n",
        "  print(\"epoch:\", i, \"loss:\", loss.item())\n",
        "  \n",
        "  losses.append(loss)\n",
        "  optimizer.zero_grad()\n",
        "  loss.backward()"
      ],
      "execution_count": 10,
      "outputs": [
        {
          "output_type": "stream",
          "text": [
            "epoch: 0 loss: 7.776475429534912\n",
            "epoch: 1 loss: 7.776475429534912\n",
            "epoch: 2 loss: 7.776475429534912\n",
            "epoch: 3 loss: 7.776475429534912\n",
            "epoch: 4 loss: 7.776475429534912\n",
            "epoch: 5 loss: 7.776475429534912\n",
            "epoch: 6 loss: 7.776475429534912\n",
            "epoch: 7 loss: 7.776475429534912\n",
            "epoch: 8 loss: 7.776475429534912\n",
            "epoch: 9 loss: 7.776475429534912\n",
            "epoch: 10 loss: 7.776475429534912\n",
            "epoch: 11 loss: 7.776475429534912\n",
            "epoch: 12 loss: 7.776475429534912\n",
            "epoch: 13 loss: 7.776475429534912\n",
            "epoch: 14 loss: 7.776475429534912\n",
            "epoch: 15 loss: 7.776475429534912\n",
            "epoch: 16 loss: 7.776475429534912\n",
            "epoch: 17 loss: 7.776475429534912\n",
            "epoch: 18 loss: 7.776475429534912\n",
            "epoch: 19 loss: 7.776475429534912\n",
            "epoch: 20 loss: 7.776475429534912\n",
            "epoch: 21 loss: 7.776475429534912\n",
            "epoch: 22 loss: 7.776475429534912\n",
            "epoch: 23 loss: 7.776475429534912\n",
            "epoch: 24 loss: 7.776475429534912\n",
            "epoch: 25 loss: 7.776475429534912\n",
            "epoch: 26 loss: 7.776475429534912\n",
            "epoch: 27 loss: 7.776475429534912\n",
            "epoch: 28 loss: 7.776475429534912\n",
            "epoch: 29 loss: 7.776475429534912\n",
            "epoch: 30 loss: 7.776475429534912\n",
            "epoch: 31 loss: 7.776475429534912\n",
            "epoch: 32 loss: 7.776475429534912\n",
            "epoch: 33 loss: 7.776475429534912\n",
            "epoch: 34 loss: 7.776475429534912\n",
            "epoch: 35 loss: 7.776475429534912\n",
            "epoch: 36 loss: 7.776475429534912\n",
            "epoch: 37 loss: 7.776475429534912\n",
            "epoch: 38 loss: 7.776475429534912\n",
            "epoch: 39 loss: 7.776475429534912\n",
            "epoch: 40 loss: 7.776475429534912\n",
            "epoch: 41 loss: 7.776475429534912\n",
            "epoch: 42 loss: 7.776475429534912\n",
            "epoch: 43 loss: 7.776475429534912\n",
            "epoch: 44 loss: 7.776475429534912\n",
            "epoch: 45 loss: 7.776475429534912\n",
            "epoch: 46 loss: 7.776475429534912\n",
            "epoch: 47 loss: 7.776475429534912\n",
            "epoch: 48 loss: 7.776475429534912\n",
            "epoch: 49 loss: 7.776475429534912\n",
            "epoch: 50 loss: 7.776475429534912\n",
            "epoch: 51 loss: 7.776475429534912\n",
            "epoch: 52 loss: 7.776475429534912\n",
            "epoch: 53 loss: 7.776475429534912\n",
            "epoch: 54 loss: 7.776475429534912\n",
            "epoch: 55 loss: 7.776475429534912\n",
            "epoch: 56 loss: 7.776475429534912\n",
            "epoch: 57 loss: 7.776475429534912\n",
            "epoch: 58 loss: 7.776475429534912\n",
            "epoch: 59 loss: 7.776475429534912\n",
            "epoch: 60 loss: 7.776475429534912\n",
            "epoch: 61 loss: 7.776475429534912\n",
            "epoch: 62 loss: 7.776475429534912\n",
            "epoch: 63 loss: 7.776475429534912\n",
            "epoch: 64 loss: 7.776475429534912\n",
            "epoch: 65 loss: 7.776475429534912\n",
            "epoch: 66 loss: 7.776475429534912\n",
            "epoch: 67 loss: 7.776475429534912\n",
            "epoch: 68 loss: 7.776475429534912\n",
            "epoch: 69 loss: 7.776475429534912\n",
            "epoch: 70 loss: 7.776475429534912\n",
            "epoch: 71 loss: 7.776475429534912\n",
            "epoch: 72 loss: 7.776475429534912\n",
            "epoch: 73 loss: 7.776475429534912\n",
            "epoch: 74 loss: 7.776475429534912\n",
            "epoch: 75 loss: 7.776475429534912\n",
            "epoch: 76 loss: 7.776475429534912\n",
            "epoch: 77 loss: 7.776475429534912\n",
            "epoch: 78 loss: 7.776475429534912\n",
            "epoch: 79 loss: 7.776475429534912\n",
            "epoch: 80 loss: 7.776475429534912\n",
            "epoch: 81 loss: 7.776475429534912\n",
            "epoch: 82 loss: 7.776475429534912\n",
            "epoch: 83 loss: 7.776475429534912\n",
            "epoch: 84 loss: 7.776475429534912\n",
            "epoch: 85 loss: 7.776475429534912\n",
            "epoch: 86 loss: 7.776475429534912\n",
            "epoch: 87 loss: 7.776475429534912\n",
            "epoch: 88 loss: 7.776475429534912\n",
            "epoch: 89 loss: 7.776475429534912\n",
            "epoch: 90 loss: 7.776475429534912\n",
            "epoch: 91 loss: 7.776475429534912\n",
            "epoch: 92 loss: 7.776475429534912\n",
            "epoch: 93 loss: 7.776475429534912\n",
            "epoch: 94 loss: 7.776475429534912\n",
            "epoch: 95 loss: 7.776475429534912\n",
            "epoch: 96 loss: 7.776475429534912\n",
            "epoch: 97 loss: 7.776475429534912\n",
            "epoch: 98 loss: 7.776475429534912\n",
            "epoch: 99 loss: 7.776475429534912\n"
          ],
          "name": "stdout"
        }
      ]
    },
    {
      "metadata": {
        "id": "0EuDchJYs4MW",
        "colab_type": "code",
        "colab": {
          "base_uri": "https://localhost:8080/",
          "height": 361
        },
        "outputId": "f4ef67df-3dae-4b69-fc01-cdd72b59647f"
      },
      "cell_type": "code",
      "source": [
        "#Plotting Loss at Various Epochs\n",
        "\n",
        "\n",
        "\n",
        "plt.plot(range(epochs), losses)\n",
        "plt.ylabel('Loss')\n",
        "plt.xlabel('epoch')\n",
        "\n",
        "#Plotting Trained Model\n",
        "\n",
        "plot_fit(\"Trained Model\") "
      ],
      "execution_count": 14,
      "outputs": [
        {
          "output_type": "display_data",
          "data": {
            "image/png": "[encoded data removed]",
            "text/plain": [
              "<Figure size 576x396 with 1 Axes>"
            ]
          },
          "metadata": {
            "tags": []
          }
        }
      ]
    },
    {
      "metadata": {
        "id": "c7tU-_UutYh7",
        "colab_type": "code",
        "colab": {
          "base_uri": "https://localhost:8080/",
          "height": 348
        },
        "outputId": "318037b0-a2c4-436c-afe1-fee3b3c4fd78"
      },
      "cell_type": "code",
      "source": [
        "#Plotting Trained Model\n",
        "\n",
        "plot_fit(\"Trained Model\") "
      ],
      "execution_count": 13,
      "outputs": [
        {
          "output_type": "display_data",
          "data": {
            "image/png": "[encoded data removed]",
            "text/plain": [
              "<Figure size 576x396 with 1 Axes>"
            ]
          },
          "metadata": {
            "tags": []
          }
        }
      ]
    }
  ]
}